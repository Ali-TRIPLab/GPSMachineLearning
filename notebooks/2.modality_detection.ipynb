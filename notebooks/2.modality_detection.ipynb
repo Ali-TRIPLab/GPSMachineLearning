{
 "cells": [
  {
   "cell_type": "code",
   "execution_count": 8,
   "metadata": {
    "collapsed": true
   },
   "outputs": [],
   "source": [
    "import glob\n",
    "import pandas as pd\n",
    "import numpy as np\n",
    "import time\n",
    "from IPython.display import display, HTML\n",
    "\n",
    "#from sklearn.metrics import accuracy_score\n",
    "#from sklearn.decomposition import PCA\n",
    "#from sklearn.preprocessing import StandardScaler\n",
    "\n",
    "from sklearn.linear_model import LogisticRegression\n",
    "from sklearn.neighbors import KNeighborsClassifier\n",
    "from sklearn.svm import SVC\n",
    "from sklearn.ensemble import GradientBoostingClassifier\n",
    "from sklearn import tree\n",
    "from sklearn.ensemble import RandomForestClassifier\n",
    "from sklearn.neural_network import MLPClassifier\n",
    "from sklearn.naive_bayes import GaussianNB\n"
   ]
  },
  {
   "cell_type": "code",
   "execution_count": 2,
   "metadata": {
    "collapsed": true
   },
   "outputs": [],
   "source": [
    "def clean_label(label):\n",
    "    return label.lstrip(',').rstrip(',').replace(',,', ',')"
   ]
  },
  {
   "cell_type": "markdown",
   "metadata": {},
   "source": [
    "The processed data can be downloaded from: \n",
    "\n",
    "https://drive.google.com/open?id=0B22kg5oTwAn-Q0xOVDhRMVNhMDQ"
   ]
  },
  {
   "cell_type": "code",
   "execution_count": 3,
   "metadata": {
    "collapsed": false,
    "scrolled": false
   },
   "outputs": [
    {
     "name": "stderr",
     "output_type": "stream",
     "text": [
      "C:\\Users\\taspinara\\AppData\\Local\\Continuum\\Anaconda3\\lib\\site-packages\\pandas\\core\\indexing.py:477: SettingWithCopyWarning: \n",
      "A value is trying to be set on a copy of a slice from a DataFrame.\n",
      "Try using .loc[row_indexer,col_indexer] = value instead\n",
      "\n",
      "See the caveats in the documentation: http://pandas.pydata.org/pandas-docs/stable/indexing.html#indexing-view-versus-copy\n",
      "  self.obj[item] = s\n"
     ]
    }
   ],
   "source": [
    "INPUT_FOLDER = '../processed_data2/'\n",
    "headers_metadf = ['trajectory_id', 'start_time', 'end_time', 'v_ave', 'v_med', 'v_max', 'a_ave', 'a_med', 'a_max', 'labels']\n",
    "\n",
    "list_df_metadata = []\n",
    "\n",
    "for file in glob.glob(INPUT_FOLDER + \"*_metadata.csv\"):\n",
    "    df_metadata = pd.read_csv(file, index_col=0)\n",
    "    list_df_metadata.append(df_metadata)\n",
    "\n",
    "df_metadata = pd.concat(list_df_metadata)\n",
    "\n",
    "df_labeled = df_metadata.dropna(subset=['v_ave','v_med','v_max', 'a_ave', 'a_med', 'a_max', 'labels'])\n",
    "df_labeled.loc[:,'labels'] = df_labeled['labels'].apply(lambda x: clean_label(x))"
   ]
  },
  {
   "cell_type": "code",
   "execution_count": 4,
   "metadata": {
    "collapsed": false
   },
   "outputs": [
    {
     "name": "stdout",
     "output_type": "stream",
     "text": [
      "Total number of trajectories: 18670\n",
      "Number of labeled trajectories: 4468\n",
      "Number of single modality trajectories: 2812\n"
     ]
    }
   ],
   "source": [
    "all_labels = df_labeled['labels'].unique()\n",
    "single_modality_labels = [elem for elem in all_labels if ',' not in elem]\n",
    "\n",
    "df_single_modality = df_labeled[df_labeled['labels'].isin(single_modality_labels)]\n",
    "\n",
    "\n",
    "print(\"Total number of trajectories: {}\".format(len(df_metadata)))\n",
    "print(\"Number of labeled trajectories: {}\".format(len(df_labeled)))\n",
    "print(\"Number of single modality trajectories: {}\".format(len(df_single_modality)))"
   ]
  },
  {
   "cell_type": "code",
   "execution_count": 5,
   "metadata": {
    "collapsed": false
   },
   "outputs": [
    {
     "name": "stdout",
     "output_type": "stream",
     "text": [
      "1970\n"
     ]
    }
   ],
   "source": [
    "mask = np.random.rand(len(df_single_modality)) < 0.7\n",
    "df_train = df_single_modality[mask]\n",
    "df_test = df_single_modality[~mask]\n",
    "\n",
    "print(len(df_train))"
   ]
  },
  {
   "cell_type": "code",
   "execution_count": 6,
   "metadata": {
    "collapsed": false
   },
   "outputs": [],
   "source": [
    "X_colnames = ['v_ave','v_med','a_ave', 'a_med']\n",
    "Y_colnames = ['labels']\n",
    "\n",
    "X_train = df_train[X_colnames].values\n",
    "Y_train = np.ravel(df_train[Y_colnames].values)\n",
    "X_test = df_test[X_colnames].values\n",
    "Y_test = np.ravel(df_test[Y_colnames].values)"
   ]
  },
  {
   "cell_type": "code",
   "execution_count": 7,
   "metadata": {
    "collapsed": false
   },
   "outputs": [
    {
     "name": "stdout",
     "output_type": "stream",
     "text": [
      "trained Logistic Regression in 0.03 s\n",
      "trained Nearest Neighbors in 0.02 s\n",
      "trained Linear SVM in 0.19 s\n",
      "trained Gradient Boosting Classifier in 1.43 s\n",
      "trained Decision Tree in 0.01 s\n",
      "trained Random Forest in 0.08 s\n",
      "trained Neural Net in 0.84 s\n",
      "trained Naive Bayes in 0.01 s\n"
     ]
    },
    {
     "data": {
      "text/html": [
       "<div>\n",
       "<table border=\"1\" class=\"dataframe\">\n",
       "  <thead>\n",
       "    <tr style=\"text-align: right;\">\n",
       "      <th></th>\n",
       "      <th>classifier</th>\n",
       "      <th>train_score</th>\n",
       "      <th>test_score</th>\n",
       "      <th>training_time</th>\n",
       "    </tr>\n",
       "  </thead>\n",
       "  <tbody>\n",
       "    <tr>\n",
       "      <th>5</th>\n",
       "      <td>Random Forest</td>\n",
       "      <td>0.993401</td>\n",
       "      <td>0.707838</td>\n",
       "      <td>0.075170</td>\n",
       "    </tr>\n",
       "    <tr>\n",
       "      <th>3</th>\n",
       "      <td>Gradient Boosting Classifier</td>\n",
       "      <td>0.909645</td>\n",
       "      <td>0.705463</td>\n",
       "      <td>1.430050</td>\n",
       "    </tr>\n",
       "    <tr>\n",
       "      <th>2</th>\n",
       "      <td>Linear SVM</td>\n",
       "      <td>0.740102</td>\n",
       "      <td>0.697150</td>\n",
       "      <td>0.185382</td>\n",
       "    </tr>\n",
       "    <tr>\n",
       "      <th>1</th>\n",
       "      <td>Nearest Neighbors</td>\n",
       "      <td>0.771574</td>\n",
       "      <td>0.682898</td>\n",
       "      <td>0.020520</td>\n",
       "    </tr>\n",
       "    <tr>\n",
       "      <th>6</th>\n",
       "      <td>Neural Net</td>\n",
       "      <td>0.703553</td>\n",
       "      <td>0.678147</td>\n",
       "      <td>0.835259</td>\n",
       "    </tr>\n",
       "    <tr>\n",
       "      <th>4</th>\n",
       "      <td>Decision Tree</td>\n",
       "      <td>0.998985</td>\n",
       "      <td>0.631829</td>\n",
       "      <td>0.011326</td>\n",
       "    </tr>\n",
       "    <tr>\n",
       "      <th>0</th>\n",
       "      <td>Logistic Regression</td>\n",
       "      <td>0.647716</td>\n",
       "      <td>0.628266</td>\n",
       "      <td>0.033992</td>\n",
       "    </tr>\n",
       "    <tr>\n",
       "      <th>7</th>\n",
       "      <td>Naive Bayes</td>\n",
       "      <td>0.306599</td>\n",
       "      <td>0.295724</td>\n",
       "      <td>0.008973</td>\n",
       "    </tr>\n",
       "  </tbody>\n",
       "</table>\n",
       "</div>"
      ],
      "text/plain": [
       "                     classifier  train_score  test_score  training_time\n",
       "5                 Random Forest     0.993401    0.707838       0.075170\n",
       "3  Gradient Boosting Classifier     0.909645    0.705463       1.430050\n",
       "2                    Linear SVM     0.740102    0.697150       0.185382\n",
       "1             Nearest Neighbors     0.771574    0.682898       0.020520\n",
       "6                    Neural Net     0.703553    0.678147       0.835259\n",
       "4                 Decision Tree     0.998985    0.631829       0.011326\n",
       "0           Logistic Regression     0.647716    0.628266       0.033992\n",
       "7                   Naive Bayes     0.306599    0.295724       0.008973"
      ]
     },
     "metadata": {},
     "output_type": "display_data"
    }
   ],
   "source": [
    "dict_classifiers = {\n",
    "    \"Logistic Regression\": LogisticRegression(),\n",
    "    \"Nearest Neighbors\": KNeighborsClassifier(),\n",
    "    \"Linear SVM\": SVC(),\n",
    "    \"Gradient Boosting Classifier\": GradientBoostingClassifier(),\n",
    "    \"Decision Tree\": tree.DecisionTreeClassifier(),\n",
    "    \"Random Forest\": RandomForestClassifier(n_estimators = 18),\n",
    "    \"Neural Net\": MLPClassifier(alpha = 1),\n",
    "    #\"AdaBoost\": AdaBoostClassifier(),\n",
    "    \"Naive Bayes\": GaussianNB(),\n",
    "    #\"QDA\": QuadraticDiscriminantAnalysis() \n",
    "}\n",
    "\n",
    "no_classifiers = len(dict_classifiers.keys())\n",
    "\n",
    "df_results = pd.DataFrame(data=np.zeros(shape=(no_classifiers,4)), columns = ['classifier', 'train_score', 'test_score', 'training_time'])\n",
    "\n",
    "count = 0\n",
    "for key, classifier in dict_classifiers.items():\n",
    "    t_start = time.clock()\n",
    "    classifier.fit(X_train, Y_train)\n",
    "    train_score = classifier.score(X_train, Y_train)\n",
    "    test_score = classifier.score(X_test, Y_test)\n",
    "    t_end = time.clock()\n",
    "    t_diff = t_end - t_start\n",
    "    df_results.loc[count,'classifier'] = key\n",
    "    df_results.loc[count,'train_score'] = train_score\n",
    "    df_results.loc[count,'test_score'] = test_score\n",
    "    df_results.loc[count,'training_time'] = t_diff\n",
    "    print(\"trained {c} in {f:.2f} s\".format(c=key, f=t_diff))\n",
    "    count+=1\n",
    "\n",
    "display(df_results.sort_values(by='test_score', ascending=False))"
   ]
  },
  {
   "cell_type": "code",
   "execution_count": null,
   "metadata": {
    "collapsed": true
   },
   "outputs": [],
   "source": []
  }
 ],
 "metadata": {
  "kernelspec": {
   "display_name": "Python 3",
   "language": "python",
   "name": "python3"
  },
  "language_info": {
   "codemirror_mode": {
    "name": "ipython",
    "version": 3
   },
   "file_extension": ".py",
   "mimetype": "text/x-python",
   "name": "python",
   "nbconvert_exporter": "python",
   "pygments_lexer": "ipython3",
   "version": "3.6.0"
  }
 },
 "nbformat": 4,
 "nbformat_minor": 2
}

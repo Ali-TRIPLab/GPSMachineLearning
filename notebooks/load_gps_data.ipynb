{
 "cells": [
  {
   "cell_type": "code",
   "execution_count": 1,
   "metadata": {
    "collapsed": false,
    "deletable": true,
    "editable": true
   },
   "outputs": [],
   "source": [
    "import geopandas as gpd\n",
    "import pandas as pd  # ours: 0.18.1\n",
    "from shapely.geometry import Point\n",
    "import datetime as dt\n",
    "#from geopy.distance import vincenty\n",
    "import pyproj\n",
    "import numpy as np # ours: 1.12.1\n",
    "from os import listdir"
   ]
  },
  {
   "cell_type": "code",
   "execution_count": null,
   "metadata": {
    "collapsed": false,
    "deletable": true,
    "editable": true
   },
   "outputs": [],
   "source": []
  },
  {
   "cell_type": "markdown",
   "metadata": {
    "deletable": true,
    "editable": true
   },
   "source": [
    "GeoPandas is a great tool to work with if you are using geographical data. It can read almost any vector-based spatial data format including ESRI shapefile, GeoJSON files. The data we have however is in a CSV format. Therefore we will first read it with Pandas and then convert it to GeoPandas. \n",
    "\n",
    "To load the long, lat coordinates into a GeoDataFrame, we first have to create an array of shapely geometries first. \n",
    "\n",
    "Depending on the device, GPS trajectories can also contain measurements of velocity and acceleration. This dataset does not contain such information, but it can be calculated from XY-coordinates and timestamps of two points. \n",
    "\n",
    "velocity = distance(point1, point2) / timedelta(point1, point2)\n",
    "\n",
    "The important thing to take into account is that we can not simply calculate the velocity by using the Euclidean distance (which assumes that two points lie on a plane), but have to use the Great-circle distance (which takes the curvature of the earth into account). \n",
    "\n",
    "The Python library pyproj can be used to convert between geographic (long, lat) to euclidean coordinates (x,y). Another great python library is geopy.\n",
    "\n",
    "\n",
    "see:\n",
    "http://geopandas.org/io.html#reading-spatial-data\n",
    "\n",
    "http://toblerity.org/shapely/manual.html\n",
    "\n",
    "https://en.wikipedia.org/wiki/Great-circle_distance\n",
    "\n",
    "https://github.com/jswhit/pyproj\n",
    "\n"
   ]
  },
  {
   "cell_type": "code",
   "execution_count": 3,
   "metadata": {
    "collapsed": false,
    "deletable": true,
    "editable": true
   },
   "outputs": [
    {
     "name": "stdout",
     "output_type": "stream",
     "text": [
      "049\n"
     ]
    },
    {
     "ename": "NameError",
     "evalue": "name 'df_labels' is not defined",
     "output_type": "error",
     "traceback": [
      "\u001b[0;31m---------------------------------------------------------------------------\u001b[0m",
      "\u001b[0;31mNameError\u001b[0m                                 Traceback (most recent call last)",
      "\u001b[0;32m<ipython-input-3-c60810543a94>\u001b[0m in \u001b[0;36m<module>\u001b[0;34m()\u001b[0m\n\u001b[1;32m     85\u001b[0m         \u001b[0mfilename\u001b[0m \u001b[0;34m=\u001b[0m \u001b[0mdirectory_\u001b[0m \u001b[0;34m+\u001b[0m \u001b[0mlabels_file\u001b[0m\u001b[0;34m\u001b[0m\u001b[0m\n\u001b[1;32m     86\u001b[0m         \u001b[0mdf_labels\u001b[0m \u001b[0;34m=\u001b[0m \u001b[0mload_labels_df\u001b[0m\u001b[0;34m(\u001b[0m\u001b[0mfilename\u001b[0m\u001b[0;34m)\u001b[0m\u001b[0;34m\u001b[0m\u001b[0m\n\u001b[0;32m---> 87\u001b[0;31m     \u001b[0;32mfor\u001b[0m \u001b[0midx\u001b[0m \u001b[0;32min\u001b[0m \u001b[0mdf_labels\u001b[0m\u001b[0;34m.\u001b[0m\u001b[0mindex\u001b[0m\u001b[0;34m.\u001b[0m\u001b[0mvalues\u001b[0m\u001b[0;34m:\u001b[0m\u001b[0;34m\u001b[0m\u001b[0m\n\u001b[0m\u001b[1;32m     88\u001b[0m         \u001b[0mst\u001b[0m \u001b[0;34m=\u001b[0m \u001b[0mdf_labels\u001b[0m\u001b[0;34m.\u001b[0m\u001b[0mix\u001b[0m\u001b[0;34m[\u001b[0m\u001b[0midx\u001b[0m\u001b[0;34m]\u001b[0m\u001b[0;34m[\u001b[0m\u001b[0;34m'start_time'\u001b[0m\u001b[0;34m]\u001b[0m\u001b[0;34m\u001b[0m\u001b[0m\n\u001b[1;32m     89\u001b[0m         \u001b[0met\u001b[0m \u001b[0;34m=\u001b[0m \u001b[0mdf_labels\u001b[0m\u001b[0;34m.\u001b[0m\u001b[0mix\u001b[0m\u001b[0;34m[\u001b[0m\u001b[0midx\u001b[0m\u001b[0;34m]\u001b[0m\u001b[0;34m[\u001b[0m\u001b[0;34m'end_time'\u001b[0m\u001b[0;34m]\u001b[0m\u001b[0;34m\u001b[0m\u001b[0m\n",
      "\u001b[0;31mNameError\u001b[0m: name 'df_labels' is not defined"
     ]
    }
   ],
   "source": [
    "geod = pyproj.Geod(ellps='WGS84')\n",
    "\n",
    "def to_datetime(string):\n",
    "    return dt.datetime.strptime(string, '%Y-%m-%d %H:%M:%S')\n",
    "\n",
    "def calculate_distance(point1, point2):\n",
    "    angle1,angle2,distance = geod.inv(point1.x, point1.y, point2.x, point2.y)\n",
    "    return distance\n",
    "\n",
    "def calculate_velocity(distance, timedelta):\n",
    "    if timedelta.total_seconds() == 0: return np.nan\n",
    "    return distance / timedelta.total_seconds()\n",
    "\n",
    "def calculate_acceleration(velocity, velocity2, timedelta):\n",
    "    delta_v = velocity2 - velocity\n",
    "    if timedelta.total_seconds() == 0: return np.nan\n",
    "    return delta_v / timedelta.total_seconds()\n",
    "\n",
    "headers_trajectory = ['lat', 'long', 'null', 'altitude','timestamp_float', 'date', 'time']\n",
    "headers_metadf = ['trajectory_id', 'start_time', 'end_time', 'v_ave', 'v_med', 'a_ave', 'a_med', 'labels']\n",
    "\n",
    "def load_trajectory_df(filename, trajectory_id):\n",
    "    #trajectory_id = os.path.splitext(filename)[0]\n",
    "    df = pd.read_csv(filename, skiprows = 6, header = None, names = headers_trajectory)\n",
    "    df['point'] = df.apply(lambda z: Point(z.long, z.lat), axis=1)\n",
    "    df['point2'] = df['point'].shift(1)\n",
    "    df['datetime'] = df.apply(lambda z: to_datetime(z.date + ' ' + z.time), axis=1)\n",
    "    df['datetime2'] = df['datetime'].shift(1)\n",
    "    df.loc[0, 'point2'] = df.ix[1]['point2']\n",
    "    df.loc[0, 'datetime2'] = df.ix[1]['datetime2']\n",
    "    df['distance'] = df.apply(lambda z: calculate_distance(z.point, z.point2), axis=1)\n",
    "    df['timedelta'] = df.apply(lambda z: z.datetime - z.datetime2, axis=1)\n",
    "    df['velocity'] = df.apply(lambda z: calculate_velocity(z.distance, z.timedelta), axis=1)\n",
    "    df['velocity2'] = df['velocity'].shift(1)\n",
    "    df['acceleration'] = df.apply(lambda z: calculate_acceleration(z.velocity, z.velocity2, z.timedelta), axis=1)\n",
    "    df = df.drop(['lat', 'long', 'null', 'timestamp_float', 'date', 'time', 'point2', 'datetime2', 'velocity2'], axis=1)\n",
    "    df['labels'] = ''\n",
    "    df['trajectory_id'] = trajectory_id\n",
    "    return df\n",
    "\n",
    "def load_labels_df(filename):\n",
    "    df = pd.read_csv(filename, sep='\\t')\n",
    "    df['start_time'] = df['Start Time'].apply(lambda x: dt.datetime.strptime(x, '%Y/%m/%d %H:%M:%S'))\n",
    "    df['end_time'] = df['End Time'].apply(lambda x: dt.datetime.strptime(x, '%Y/%m/%d %H:%M:%S'))\n",
    "    df['labels'] = df['Transportation Mode']\n",
    "    df = df.drop(['End Time', 'Start Time', 'Transportation Mode'], axis=1)\n",
    "    return df\n",
    "\n",
    "def retrieve_metadata(df):\n",
    "    df_meta = pd.DataFrame(columns = headers_metadf)\n",
    "    print(df.columns.values)\n",
    "    trajectory_ids = df['trajectory_id'].unique()\n",
    "    for ii in range(len(trajectory_ids)):\n",
    "        trajectory_id = trajectory_ids[ii]\n",
    "        df_ = df[df['trajectory_id'] == trajectory_id]\n",
    "        start_time = df_.head(1)['datetime'].values[0]\n",
    "        end_time = df_.tail(1)['datetime'].values[0]\n",
    "        v_ave = np.nanmean(df_['velocity'].values)\n",
    "        v_med = np.nanmedian(df_['velocity'].values)\n",
    "        a_ave = np.nanmean(df_['acceleration'].values)\n",
    "        a_med = np.nanmedian(df_['acceleration'].values)\n",
    "        labels = df_['labels'].unique()\n",
    "        labels = \",\".join(labels)\n",
    "        df_meta.loc[ii,:] = [trajectory_id, start_time, end_time, v_ave, v_med, a_ave, a_med, labels]\n",
    "    return df_meta\n",
    "\n",
    "\n",
    "\n",
    "labels_file = 'labels.txt'\n",
    "MAIN_FOLDER = '../GPSML/Data/'\n",
    "traj_folder = 'Trajectory/'\n",
    "directories = listdir(MAIN_FOLDER)\n",
    "\n",
    "for directory in directories:\n",
    "    print(directory)\n",
    "    list_df_traj = []\n",
    "    directory_ = MAIN_FOLDER + directory + '/'\n",
    "    for traj_file in listdir(directory_ + traj_folder):\n",
    "        trajectory_id = traj_file.split('.')[0]\n",
    "        filename = directory_ + traj_folder + traj_file\n",
    "        df_traj = load_trajectory_df(filename, trajectory_id)\n",
    "        list_df_traj.append(df_traj)\n",
    "    df_traj_all = pd.concat(list_df_traj)\n",
    "    if labels_file in listdir(directory_):\n",
    "        filename = directory_ + labels_file\n",
    "        df_labels = load_labels_df(filename)\n",
    "    for idx in df_labels.index.values:\n",
    "        st = df_labels.ix[idx]['start_time']\n",
    "        et = df_labels.ix[idx]['end_time']\n",
    "        labels = df_labels.ix[idx]['labels']\n",
    "        df_traj_all.loc[(df_traj_all['datetime'] >= st) & (df_traj_all['datetime'] <= et), 'labels'] = labels\n",
    "        #print st, et, labels\n",
    "        #df_meta[(df_meta['start_time'] == st) & (df_meta['end_time'] == et)]['labels'] = labels\n",
    "    df_traj_all.to_csv(directory_ + directory + '.csv')\n",
    "    df_metadata = retrieve_metadata(df_traj_all)\n",
    "    df_metadata.to_csv(directory_ + directory + '_metadata.csv')"
   ]
  },
  {
   "cell_type": "code",
   "execution_count": null,
   "metadata": {
    "collapsed": false,
    "deletable": true,
    "editable": true
   },
   "outputs": [],
   "source": []
  },
  {
   "cell_type": "code",
   "execution_count": null,
   "metadata": {
    "collapsed": true,
    "deletable": true,
    "editable": true
   },
   "outputs": [],
   "source": []
  }
 ],
 "metadata": {
  "anaconda-cloud": {},
  "kernelspec": {
   "display_name": "Python 3",
   "language": "python",
   "name": "python3"
  },
  "language_info": {
   "codemirror_mode": {
    "name": "ipython",
    "version": 3
   },
   "file_extension": ".py",
   "mimetype": "text/x-python",
   "name": "python",
   "nbconvert_exporter": "python",
   "pygments_lexer": "ipython3",
   "version": "3.5.2"
  }
 },
 "nbformat": 4,
 "nbformat_minor": 0
}

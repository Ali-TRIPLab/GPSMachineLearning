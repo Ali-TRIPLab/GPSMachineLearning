{
 "cells": [
  {
   "cell_type": "markdown",
   "metadata": {
    "deletable": true,
    "editable": true
   },
   "source": [
    "We will be using the following packages for this notebook. \n",
    "You can install them with 'conda install <package>' or 'pip install <package>'"
   ]
  },
  {
   "cell_type": "code",
   "execution_count": 1,
   "metadata": {
    "collapsed": false,
    "deletable": true,
    "editable": true
   },
   "outputs": [],
   "source": [
    "import pandas as pd\n",
    "import datetime as dt\n",
    "import pyproj\n",
    "import numpy as np\n",
    "\n",
    "\n",
    "import os\n",
    "\n",
    "#import geopandas as gpd\n",
    "#from geographiclib.geodesic import Geodesic\n",
    "#from geopy.distance import vincenty\n",
    "#from shapely.geometry import Point"
   ]
  },
  {
   "cell_type": "markdown",
   "metadata": {
    "deletable": true,
    "editable": true
   },
   "source": [
    "Depending on the device, GPS trajectories can also contain measurements of velocity and acceleration. This dataset does not contain such information, but it can be calculated from XY-coordinates and timestamps of two points. \n",
    "\n",
    "velocity = distance(point1, point2) / timedelta(point1, point2)\n",
    "acceleration = velocitydifference(point1, point2) / timedelta(point1, point2)\n",
    "\n",
    "The important thing to take into account is that we first have to convert geographic (long, lat) coordinates to Euclidean coordinates, before we can calculate the velocity. This is called the Great-circle distance and takes the the curvature of the earth into account. \n",
    "\n",
    "The Python library pyproj can be used to convert between geographic (long, lat) to euclidean coordinates (x,y). Another great python library is geopy.\n",
    "\n",
    "\n",
    "see:\n",
    "\n",
    "https://en.wikipedia.org/wiki/Great-circle_distance\n",
    "\n",
    "https://github.com/jswhit/pyproj\n",
    "\n"
   ]
  },
  {
   "cell_type": "code",
   "execution_count": 2,
   "metadata": {
    "collapsed": false,
    "deletable": true,
    "editable": true
   },
   "outputs": [],
   "source": [
    "geod = pyproj.Geod(ellps='WGS84')\n",
    "\n",
    "def to_datetime(string):\n",
    "    return dt.datetime.strptime(string, '%Y-%m-%d %H:%M:%S')\n",
    "\n",
    "def calculate_distance(long1, lat1, long2, lat2):\n",
    "    if lat1 == lat2 and long1 == long2:\n",
    "        return 0\n",
    "    if False in np.isfinite([long1, long2, lat1, lat2]):\n",
    "        return np.nan\n",
    "    if lat1 < -90 or lat1 > 90 or lat2 < -90 or lat2 > 90:\n",
    "        #raise ValueError('The range of latitudes seems to be invalid.')\n",
    "        return np.nan\n",
    "    if long1 < -180 or long1 > 180 or long2 < -180 or long2 > 180:\n",
    "        return np.nan\n",
    "        #raise ValueError('The range of longitudes seems to be invalid.')\n",
    "    angle1,angle2,distance = geod.inv(long1, lat1, long2, lat2)\n",
    "    return distance\n",
    "\n",
    "def calculate_velocity(distance, timedelta):\n",
    "    if timedelta.total_seconds() == 0: return np.nan\n",
    "    return distance / timedelta.total_seconds()\n",
    "\n",
    "def calculate_acceleration(velocity, velocity2, timedelta):\n",
    "    delta_v = velocity2 - velocity\n",
    "    if timedelta.total_seconds() == 0: return np.nan\n",
    "    return delta_v / timedelta.total_seconds()\n"
   ]
  },
  {
   "cell_type": "code",
   "execution_count": 3,
   "metadata": {
    "collapsed": false,
    "deletable": true,
    "editable": true
   },
   "outputs": [],
   "source": [
    "\n",
    "headers_trajectory = ['lat', 'long', 'null', 'altitude','timestamp_float', 'date', 'time']\n",
    "headers_metadf = ['trajectory_id', 'start_time', 'end_time', 'v_ave', 'v_med', 'a_ave', 'a_med', 'labels']\n",
    "\n",
    "\n",
    "def load_trajectory_df(subfolder, filename, trajectory_id):\n",
    "    df = pd.read_csv(filename, skiprows = 6, header = None, names = headers_trajectory)\n",
    "    df['trajectory_id'] = trajectory_id\n",
    "    df['subfolder'] = subfolder\n",
    "    df['labels'] = ''\n",
    "    \n",
    "    df['datetime'] = df.apply(lambda z: to_datetime(z.date + ' ' + z.time), axis=1)\n",
    "    df['datetime2'] = df['datetime'].shift(1)\n",
    "    df['long2'] = df['long'].shift(1)\n",
    "    df['lat2'] = df['lat'].shift(1)\n",
    "    \n",
    "    df['distance'] = df.apply(lambda z: calculate_distance(z.long, z.lat, z.long2, z.lat2), axis=1)\n",
    "    df['timedelta'] = df.apply(lambda z: z.datetime - z.datetime2, axis=1)\n",
    "    df['velocity'] = df.apply(lambda z: calculate_velocity(z.distance, z.timedelta), axis=1)\n",
    "    df['velocity2'] = df['velocity'].shift(1)\n",
    "    df['acceleration'] = df.apply(lambda z: calculate_acceleration(z.velocity, z.velocity2, z.timedelta), axis=1)\n",
    "    df = df.drop(['datetime2', 'long2', 'lat2', 'velocity2', 'null', 'timestamp_float', 'date', 'time'], axis=1)\n",
    "    \n",
    "    return df\n",
    "\n",
    "def load_labels_df(filename):\n",
    "    df = pd.read_csv(filename, sep='\\t')\n",
    "    df['start_time'] = df['Start Time'].apply(lambda x: dt.datetime.strptime(x, '%Y/%m/%d %H:%M:%S'))\n",
    "    df['end_time'] = df['End Time'].apply(lambda x: dt.datetime.strptime(x, '%Y/%m/%d %H:%M:%S'))\n",
    "    df['labels'] = df['Transportation Mode']\n",
    "    df = df.drop(['End Time', 'Start Time', 'Transportation Mode'], axis=1)\n",
    "    return df\n",
    "\n",
    "def retrieve_metadata(df):\n",
    "    df_meta = pd.DataFrame(columns = headers_metadf)\n",
    "    trajectory_ids = df['trajectory_id'].unique()\n",
    "    for ii in range(len(trajectory_ids)):\n",
    "        trajectory_id = trajectory_ids[ii]\n",
    "        df_ = df[df['trajectory_id'] == trajectory_id]\n",
    "        start_time = df_.head(1)['datetime'].values[0]\n",
    "        end_time = df_.tail(1)['datetime'].values[0]\n",
    "        v_ave = np.nanmean(df_['velocity'].values)\n",
    "        v_med = np.nanmedian(df_['velocity'].values)\n",
    "        a_ave = np.nanmean(df_['acceleration'].values)\n",
    "        a_med = np.nanmedian(df_['acceleration'].values)\n",
    "        labels = df_['labels'].unique()\n",
    "        labels = \",\".join(labels)\n",
    "        df_meta.loc[ii,:] = [trajectory_id, start_time, end_time, v_ave, v_med, a_ave, a_med, labels]\n",
    "    return df_meta\n"
   ]
  },
  {
   "cell_type": "code",
   "execution_count": 4,
   "metadata": {
    "collapsed": false,
    "deletable": true,
    "editable": true
   },
   "outputs": [
    {
     "name": "stdout",
     "output_type": "stream",
     "text": [
      "000 171\n",
      "001 71\n",
      "002 175\n",
      "003 322\n",
      "004 395\n",
      "005 86\n",
      "006 28\n",
      "007 54\n",
      "008 34\n",
      "009 49\n",
      "010 161\n",
      "011 201\n",
      "012 77\n",
      "013 144\n",
      "014 279\n",
      "015 67\n",
      "016 51\n",
      "017 391\n",
      "018 50\n",
      "019 84\n",
      "020 151\n",
      "021 8\n",
      "022 146\n",
      "023 34\n",
      "024 101\n",
      "025 757\n",
      "026 43\n",
      "027 5\n",
      "028 64\n",
      "029 45\n",
      "030 296\n",
      "031 6\n",
      "032 16\n",
      "033 13\n",
      "034 198\n",
      "035 74\n",
      "036 72\n",
      "037 148\n",
      "038 110\n",
      "039 227\n",
      "040 27\n",
      "041 557\n",
      "042 150\n",
      "043 43\n",
      "044 72\n",
      "045 9\n",
      "046 31\n",
      "047 12\n",
      "048 3\n",
      "049 1\n",
      "050 51\n",
      "051 51\n",
      "052 104\n",
      "053 9\n",
      "054 3\n",
      "055 24\n",
      "056 31\n",
      "057 22\n",
      "058 22\n",
      "059 8\n",
      "060 2\n",
      "061 20\n",
      "062 706\n",
      "063 15\n",
      "064 23\n",
      "065 137\n"
     ]
    },
    {
     "name": "stderr",
     "output_type": "stream",
     "text": [
      "C:\\Users\\taspinara\\AppData\\Local\\Continuum\\Anaconda3\\lib\\site-packages\\numpy\\lib\\nanfunctions.py:703: RuntimeWarning: Mean of empty slice\n",
      "  warnings.warn(\"Mean of empty slice\", RuntimeWarning)\n",
      "C:\\Users\\taspinara\\AppData\\Local\\Continuum\\Anaconda3\\lib\\site-packages\\numpy\\lib\\nanfunctions.py:717: RuntimeWarning: All-NaN slice encountered\n",
      "  warnings.warn(\"All-NaN slice encountered\", RuntimeWarning)\n",
      "C:\\Users\\taspinara\\AppData\\Local\\Continuum\\Anaconda3\\lib\\site-packages\\numpy\\lib\\nanfunctions.py:703: RuntimeWarning: Mean of empty slice\n",
      "  warnings.warn(\"Mean of empty slice\", RuntimeWarning)\n",
      "C:\\Users\\taspinara\\AppData\\Local\\Continuum\\Anaconda3\\lib\\site-packages\\numpy\\lib\\nanfunctions.py:717: RuntimeWarning: All-NaN slice encountered\n",
      "  warnings.warn(\"All-NaN slice encountered\", RuntimeWarning)\n"
     ]
    },
    {
     "name": "stdout",
     "output_type": "stream",
     "text": [
      "066 19\n",
      "067 120\n",
      "068 408\n",
      "069 8\n",
      "070 11\n",
      "071 73\n",
      "072 2\n",
      "073 112\n",
      "074 91\n",
      "075 13\n"
     ]
    },
    {
     "name": "stderr",
     "output_type": "stream",
     "text": [
      "C:\\Users\\taspinara\\AppData\\Local\\Continuum\\Anaconda3\\lib\\site-packages\\numpy\\lib\\nanfunctions.py:703: RuntimeWarning: Mean of empty slice\n",
      "  warnings.warn(\"Mean of empty slice\", RuntimeWarning)\n",
      "C:\\Users\\taspinara\\AppData\\Local\\Continuum\\Anaconda3\\lib\\site-packages\\numpy\\lib\\nanfunctions.py:717: RuntimeWarning: All-NaN slice encountered\n",
      "  warnings.warn(\"All-NaN slice encountered\", RuntimeWarning)\n"
     ]
    },
    {
     "name": "stdout",
     "output_type": "stream",
     "text": [
      "076 11\n",
      "077 3\n",
      "078 100\n",
      "079 23\n",
      "080 9\n",
      "081 32\n",
      "082 96\n",
      "083 36\n",
      "084 215\n",
      "085 427\n",
      "086 6\n",
      "087 8\n",
      "088 59\n",
      "089 64\n",
      "090 8\n",
      "091 98\n",
      "092 157\n",
      "093 23\n",
      "094 22\n",
      "095 36\n",
      "096 112\n",
      "097 38\n",
      "098 6\n",
      "099 16\n",
      "100 7\n",
      "101 68\n",
      "102 38\n",
      "103 48\n",
      "104 115\n",
      "105 10\n",
      "106 3\n",
      "107 3\n",
      "108 9\n",
      "109 4\n",
      "110 25\n",
      "111 44\n",
      "112 212\n",
      "113 32\n",
      "114 23\n",
      "115 184\n",
      "116 3\n",
      "117 8\n",
      "118 5\n",
      "119 45\n",
      "120 2\n",
      "121 5\n",
      "122 16\n",
      "123 5\n",
      "124 10\n",
      "125 57\n"
     ]
    },
    {
     "name": "stderr",
     "output_type": "stream",
     "text": [
      "C:\\Users\\taspinara\\AppData\\Local\\Continuum\\Anaconda3\\lib\\site-packages\\numpy\\lib\\nanfunctions.py:703: RuntimeWarning: Mean of empty slice\n",
      "  warnings.warn(\"Mean of empty slice\", RuntimeWarning)\n",
      "C:\\Users\\taspinara\\AppData\\Local\\Continuum\\Anaconda3\\lib\\site-packages\\numpy\\lib\\nanfunctions.py:717: RuntimeWarning: All-NaN slice encountered\n",
      "  warnings.warn(\"All-NaN slice encountered\", RuntimeWarning)\n",
      "C:\\Users\\taspinara\\AppData\\Local\\Continuum\\Anaconda3\\lib\\site-packages\\numpy\\lib\\nanfunctions.py:703: RuntimeWarning: Mean of empty slice\n",
      "  warnings.warn(\"Mean of empty slice\", RuntimeWarning)\n",
      "C:\\Users\\taspinara\\AppData\\Local\\Continuum\\Anaconda3\\lib\\site-packages\\numpy\\lib\\nanfunctions.py:717: RuntimeWarning: All-NaN slice encountered\n",
      "  warnings.warn(\"All-NaN slice encountered\", RuntimeWarning)\n",
      "C:\\Users\\taspinara\\AppData\\Local\\Continuum\\Anaconda3\\lib\\site-packages\\numpy\\lib\\nanfunctions.py:703: RuntimeWarning: Mean of empty slice\n",
      "  warnings.warn(\"Mean of empty slice\", RuntimeWarning)\n",
      "C:\\Users\\taspinara\\AppData\\Local\\Continuum\\Anaconda3\\lib\\site-packages\\numpy\\lib\\nanfunctions.py:717: RuntimeWarning: All-NaN slice encountered\n",
      "  warnings.warn(\"All-NaN slice encountered\", RuntimeWarning)\n",
      "C:\\Users\\taspinara\\AppData\\Local\\Continuum\\Anaconda3\\lib\\site-packages\\numpy\\lib\\nanfunctions.py:703: RuntimeWarning: Mean of empty slice\n",
      "  warnings.warn(\"Mean of empty slice\", RuntimeWarning)\n",
      "C:\\Users\\taspinara\\AppData\\Local\\Continuum\\Anaconda3\\lib\\site-packages\\numpy\\lib\\nanfunctions.py:717: RuntimeWarning: All-NaN slice encountered\n",
      "  warnings.warn(\"All-NaN slice encountered\", RuntimeWarning)\n"
     ]
    },
    {
     "name": "stdout",
     "output_type": "stream",
     "text": [
      "126 263\n"
     ]
    },
    {
     "name": "stderr",
     "output_type": "stream",
     "text": [
      "C:\\Users\\taspinara\\AppData\\Local\\Continuum\\Anaconda3\\lib\\site-packages\\numpy\\lib\\nanfunctions.py:703: RuntimeWarning: Mean of empty slice\n",
      "  warnings.warn(\"Mean of empty slice\", RuntimeWarning)\n",
      "C:\\Users\\taspinara\\AppData\\Local\\Continuum\\Anaconda3\\lib\\site-packages\\numpy\\lib\\nanfunctions.py:717: RuntimeWarning: All-NaN slice encountered\n",
      "  warnings.warn(\"All-NaN slice encountered\", RuntimeWarning)\n"
     ]
    },
    {
     "name": "stdout",
     "output_type": "stream",
     "text": [
      "127 10\n",
      "128 2153\n",
      "129 8\n",
      "130 20\n",
      "131 21\n",
      "132 6\n",
      "133 5\n",
      "134 75\n",
      "135 13\n",
      "136 17\n",
      "137 1\n",
      "138 18\n",
      "139 19\n",
      "140 380\n",
      "141 34\n"
     ]
    },
    {
     "name": "stderr",
     "output_type": "stream",
     "text": [
      "C:\\Users\\taspinara\\AppData\\Local\\Continuum\\Anaconda3\\lib\\site-packages\\numpy\\lib\\nanfunctions.py:703: RuntimeWarning: Mean of empty slice\n",
      "  warnings.warn(\"Mean of empty slice\", RuntimeWarning)\n",
      "C:\\Users\\taspinara\\AppData\\Local\\Continuum\\Anaconda3\\lib\\site-packages\\numpy\\lib\\nanfunctions.py:717: RuntimeWarning: All-NaN slice encountered\n",
      "  warnings.warn(\"All-NaN slice encountered\", RuntimeWarning)\n"
     ]
    },
    {
     "name": "stdout",
     "output_type": "stream",
     "text": [
      "142 156\n",
      "143 1\n",
      "144 610\n"
     ]
    },
    {
     "name": "stderr",
     "output_type": "stream",
     "text": [
      "C:\\Users\\taspinara\\AppData\\Local\\Continuum\\Anaconda3\\lib\\site-packages\\numpy\\lib\\nanfunctions.py:703: RuntimeWarning: Mean of empty slice\n",
      "  warnings.warn(\"Mean of empty slice\", RuntimeWarning)\n",
      "C:\\Users\\taspinara\\AppData\\Local\\Continuum\\Anaconda3\\lib\\site-packages\\numpy\\lib\\nanfunctions.py:717: RuntimeWarning: All-NaN slice encountered\n",
      "  warnings.warn(\"All-NaN slice encountered\", RuntimeWarning)\n",
      "C:\\Users\\taspinara\\AppData\\Local\\Continuum\\Anaconda3\\lib\\site-packages\\numpy\\lib\\nanfunctions.py:703: RuntimeWarning: Mean of empty slice\n",
      "  warnings.warn(\"Mean of empty slice\", RuntimeWarning)\n",
      "C:\\Users\\taspinara\\AppData\\Local\\Continuum\\Anaconda3\\lib\\site-packages\\numpy\\lib\\nanfunctions.py:717: RuntimeWarning: All-NaN slice encountered\n",
      "  warnings.warn(\"All-NaN slice encountered\", RuntimeWarning)\n"
     ]
    },
    {
     "name": "stdout",
     "output_type": "stream",
     "text": [
      "145 6\n",
      "146 10\n",
      "147 84\n",
      "148 3\n",
      "149 1\n",
      "150 22\n",
      "151 1\n",
      "152 4\n"
     ]
    },
    {
     "name": "stderr",
     "output_type": "stream",
     "text": [
      "C:\\Users\\taspinara\\AppData\\Local\\Continuum\\Anaconda3\\lib\\site-packages\\numpy\\lib\\nanfunctions.py:703: RuntimeWarning: Mean of empty slice\n",
      "  warnings.warn(\"Mean of empty slice\", RuntimeWarning)\n",
      "C:\\Users\\taspinara\\AppData\\Local\\Continuum\\Anaconda3\\lib\\site-packages\\numpy\\lib\\nanfunctions.py:717: RuntimeWarning: All-NaN slice encountered\n",
      "  warnings.warn(\"All-NaN slice encountered\", RuntimeWarning)\n",
      "C:\\Users\\taspinara\\AppData\\Local\\Continuum\\Anaconda3\\lib\\site-packages\\numpy\\lib\\nanfunctions.py:703: RuntimeWarning: Mean of empty slice\n",
      "  warnings.warn(\"Mean of empty slice\", RuntimeWarning)\n",
      "C:\\Users\\taspinara\\AppData\\Local\\Continuum\\Anaconda3\\lib\\site-packages\\numpy\\lib\\nanfunctions.py:717: RuntimeWarning: All-NaN slice encountered\n",
      "  warnings.warn(\"All-NaN slice encountered\", RuntimeWarning)\n"
     ]
    },
    {
     "name": "stdout",
     "output_type": "stream",
     "text": [
      "153 2024\n",
      "154 31\n",
      "155 42\n",
      "156 2\n",
      "157 13\n",
      "158 14\n",
      "159 13\n",
      "160 3\n",
      "161 16\n",
      "162 11\n",
      "163 809\n",
      "164 7\n",
      "165 26\n",
      "166 8\n",
      "167 385\n"
     ]
    },
    {
     "name": "stderr",
     "output_type": "stream",
     "text": [
      "C:\\Users\\taspinara\\AppData\\Local\\Continuum\\Anaconda3\\lib\\site-packages\\numpy\\lib\\nanfunctions.py:703: RuntimeWarning: Mean of empty slice\n",
      "  warnings.warn(\"Mean of empty slice\", RuntimeWarning)\n",
      "C:\\Users\\taspinara\\AppData\\Local\\Continuum\\Anaconda3\\lib\\site-packages\\numpy\\lib\\nanfunctions.py:717: RuntimeWarning: All-NaN slice encountered\n",
      "  warnings.warn(\"All-NaN slice encountered\", RuntimeWarning)\n"
     ]
    },
    {
     "name": "stdout",
     "output_type": "stream",
     "text": [
      "168 97\n",
      "169 36\n",
      "170 5\n",
      "171 5\n",
      "172 21\n",
      "173 6\n",
      "174 70\n",
      "175 4\n",
      "176 8\n",
      "177 1\n",
      "178 1\n",
      "179 71\n"
     ]
    },
    {
     "name": "stderr",
     "output_type": "stream",
     "text": [
      "C:\\Users\\taspinara\\AppData\\Local\\Continuum\\Anaconda3\\lib\\site-packages\\numpy\\lib\\nanfunctions.py:703: RuntimeWarning: Mean of empty slice\n",
      "  warnings.warn(\"Mean of empty slice\", RuntimeWarning)\n",
      "C:\\Users\\taspinara\\AppData\\Local\\Continuum\\Anaconda3\\lib\\site-packages\\numpy\\lib\\nanfunctions.py:717: RuntimeWarning: All-NaN slice encountered\n",
      "  warnings.warn(\"All-NaN slice encountered\", RuntimeWarning)\n"
     ]
    },
    {
     "name": "stdout",
     "output_type": "stream",
     "text": [
      "180 5\n",
      "181 15\n"
     ]
    }
   ],
   "source": [
    "labels_file = 'labels.txt'\n",
    "MAIN_FOLDER = '../GPSML/Data/'\n",
    "TRAJ_FOLDER = 'Trajectory/'\n",
    "directories = os.listdir(MAIN_FOLDER)\n",
    "OUTPUT_FOLDER = '../processed_data/'\n",
    "\n",
    "if not os.path.exists(OUTPUT_FOLDER):\n",
    "    os.makedirs(OUTPUT_FOLDER)\n",
    "\n",
    "for subfolder in directories:\n",
    "    list_df_traj = []\n",
    "    subfolder_ = MAIN_FOLDER + subfolder + '/'\n",
    "    traj_folder = MAIN_FOLDER + subfolder + '/' + TRAJ_FOLDER\n",
    "    traj_files = os.listdir(traj_folder)\n",
    "    print(subfolder, len(traj_files))\n",
    "    for traj_file in traj_files:\n",
    "        trajectory_id = traj_file.split('.')[0]\n",
    "        filename = traj_folder + traj_file\n",
    "        df_traj = load_trajectory_df(subfolder, filename, trajectory_id)\n",
    "        list_df_traj.append(df_traj)\n",
    "    df_traj_all = pd.concat(list_df_traj)\n",
    "\n",
    "    if labels_file in os.listdir(subfolder_):\n",
    "        filename = subfolder_ + labels_file\n",
    "        df_labels = load_labels_df(filename)\n",
    "        for idx in df_labels.index.values:\n",
    "            st = df_labels.ix[idx]['start_time']\n",
    "            et = df_labels.ix[idx]['end_time']\n",
    "            labels = df_labels.ix[idx]['labels']\n",
    "            if labels:\n",
    "                df_traj_all.loc[(df_traj_all['datetime'] >= st) & \n",
    "                                (df_traj_all['datetime'] <= et), 'labels'] = labels\n",
    "\n",
    "    filename = OUTPUT_FOLDER + subfolder + '.csv'\n",
    "    filename_metadata = OUTPUT_FOLDER + subfolder + '_metadata.csv'\n",
    "\n",
    "    #df_traj_all.to_csv(filename)\n",
    "    df_metadata = retrieve_metadata(df_traj_all)\n",
    "    df_metadata.to_csv(filename_metadata)"
   ]
  },
  {
   "cell_type": "code",
   "execution_count": null,
   "metadata": {
    "collapsed": true,
    "deletable": true,
    "editable": true
   },
   "outputs": [],
   "source": []
  }
 ],
 "metadata": {
  "anaconda-cloud": {},
  "kernelspec": {
   "display_name": "Python 3",
   "language": "python",
   "name": "python3"
  },
  "language_info": {
   "codemirror_mode": {
    "name": "ipython",
    "version": 3
   },
   "file_extension": ".py",
   "mimetype": "text/x-python",
   "name": "python",
   "nbconvert_exporter": "python",
   "pygments_lexer": "ipython3",
   "version": "3.5.2"
  }
 },
 "nbformat": 4,
 "nbformat_minor": 1
}

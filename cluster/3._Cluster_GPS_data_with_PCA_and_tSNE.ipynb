{
 "cells": [
  {
   "cell_type": "markdown",
   "metadata": {},
   "source": [
    "### Import libraries and define some globally useful parameters\n"
   ]
  },
  {
   "cell_type": "code",
   "execution_count": 1,
   "metadata": {
    "collapsed": false,
    "deletable": true,
    "editable": true
   },
   "outputs": [
    {
     "name": "stdout",
     "output_type": "stream",
     "text": [
      "walk=r,train=g,subway=b,taxi=y,bus=m,bike=c,UNK=k\n"
     ]
    }
   ],
   "source": [
    "import numpy as np\n",
    "from sklearn.manifold import TSNE\n",
    "from sklearn.decomposition import TruncatedSVD\n",
    "import matplotlib.pyplot as plt\n",
    "from scipy.stats import zscore\n",
    "from util_cluster import some_cluster\n",
    "import glob\n",
    "import pandas as pd\n",
    "from collections import OrderedDict\n",
    "\n",
    "INPUT_FOLDER = '../processed_data/'\n",
    "HOT = OrderedDict()\n",
    "HOT['walk']= np.array([1, 0, 0, 0, 0, 0])\n",
    "HOT['train']= np.array([0, 1, 0, 0, 0, 0])\n",
    "HOT['subway']= np.array([0, 0, 1, 0, 0, 0])\n",
    "HOT['taxi']= np.array([0, 0, 0, 1, 0, 0])\n",
    "HOT['bus']= np.array([0, 0, 0, 0, 1, 0])\n",
    "HOT['bike']= np.array([0, 0, 0, 0, 0, 1])\n",
    "HOT['UNK']= np.array([0, 0, 0, 0, 0, 0])\n",
    "\n",
    "\n",
    "colors = ['r', 'g', 'b', 'y', 'm', 'c', 'k']\n",
    "lbl_clr = zip(HOT.keys(), colors)\n",
    "title = ''\n",
    "for lbl, clr in lbl_clr:\n",
    "    title += lbl + '=' +clr + ','\n",
    "print(title[:-1])"
   ]
  },
  {
   "cell_type": "markdown",
   "metadata": {},
   "source": [
    "### Functions to munge the data\n"
   ]
  },
  {
   "cell_type": "code",
   "execution_count": 2,
   "metadata": {
    "collapsed": true,
    "deletable": true,
    "editable": true
   },
   "outputs": [],
   "source": [
    "def munge():\n",
    "    def clean_label(label):\n",
    "        # Pandas treats NaN's as floats. So in the next line we, effectively, check for NaN\n",
    "        if not isinstance(label,float):\n",
    "          return label.lstrip(',').rstrip(',').replace(',,', ',')\n",
    "\n",
    "\n",
    "    headers_metadf = ['trajectory_id', 'start_time', 'end_time', 'v_ave', 'v_med', 'v_max', 'v_std', 'a_ave', 'a_med', 'a_max',\n",
    "                      'a_std','labels']\n",
    "\n",
    "    list_df_metadata = []\n",
    "\n",
    "    for file in glob.glob(INPUT_FOLDER + \"*_metadata.csv\"):\n",
    "        df_metadata = pd.read_csv(file, index_col=0)\n",
    "        list_df_metadata.append(df_metadata)\n",
    "\n",
    "    \n",
    "    df_metadata = pd.concat(list_df_metadata).dropna(subset=['v_ave', 'v_med', 'v_max', 'v_std', 'a_ave', 'a_med', 'a_max','a_std'])\n",
    "    \n",
    "    X = df_metadata.as_matrix(['v_ave', 'v_med', 'v_max', 'v_std', 'a_ave', 'a_med', 'a_max','a_std'])\n",
    "    y = df_metadata['labels'].values\n",
    "\n",
    "    N = X.shape[0]\n",
    "    D = 6\n",
    "\n",
    "    # Rewrite the label strings to hot-vectors\n",
    "    # Note that labels are not mutually exclusive!\n",
    "    Y = np.zeros((N,D),dtype=np.int16)\n",
    "    for iy in range(N):\n",
    "        lbl = y[iy]\n",
    "        # Pandas treats NaN's as floats. So in the next line we, effectively, check for NaN\n",
    "        if not isinstance(lbl, float):\n",
    "            for key, value in HOT.items():\n",
    "                if key in lbl:\n",
    "                    Y[iy] += value\n",
    "    return X,Y"
   ]
  },
  {
   "cell_type": "markdown",
   "metadata": {},
   "source": [
    "### Functions to preprocess data\n"
   ]
  },
  {
   "cell_type": "code",
   "execution_count": 3,
   "metadata": {
    "collapsed": true
   },
   "outputs": [],
   "source": [
    "def remove_outliers(X,y):\n",
    "    \"\"\"Start on visualization.\n",
    "    Remove all data outside (MAX_STD) standard deviations\"\"\"\n",
    "    MAX_STD = 2.0\n",
    "    mean = np.mean(X, 0)\n",
    "    std = np.std(X, 0)\n",
    "    mask = []\n",
    "    for i, x in enumerate(X):\n",
    "        if np.isnan(np.sum(x)):\n",
    "            continue\n",
    "        elif np.any(np.abs((x - mean) / std) > MAX_STD):\n",
    "            continue\n",
    "        else:\n",
    "            mask.append(i)\n",
    "    X = X[mask]\n",
    "    y = y[mask]\n",
    "    X = zscore(X)\n",
    "    return X,y"
   ]
  },
  {
   "cell_type": "markdown",
   "metadata": {},
   "source": [
    "### The working horses: PCA and tSNE"
   ]
  },
  {
   "cell_type": "code",
   "execution_count": null,
   "metadata": {
    "collapsed": true
   },
   "outputs": [],
   "source": []
  },
  {
   "cell_type": "code",
   "execution_count": 4,
   "metadata": {
    "collapsed": true
   },
   "outputs": [],
   "source": [
    "def PCA(X,y):\n",
    "    \"\"\"PCA\"\"\"\n",
    "    PCA_model = TruncatedSVD(n_components=2)\n",
    "    reduced = PCA_model.fit_transform(X)\n",
    "    return reduced,y\n",
    "\n",
    "def tSNE(X,y,perp=30):\n",
    "    \"\"\"Subsample to prevent memory error\n",
    "    - perp: the perplexity for the tSNE algo\"\"\"\n",
    "    N = X.shape[0]\n",
    "    ind = np.random.choice(N,10000)\n",
    "    X = X[ind]\n",
    "    y = y[ind]\n",
    "\n",
    "    tSNE_model = TSNE(verbose=2,perplexity=perp,min_grad_norm=1E-07,n_iter=300,angle=0.6)\n",
    "    reduced_tsne = tSNE_model.fit_transform(X)\n",
    "    return reduced_tsne,y\n"
   ]
  },
  {
   "cell_type": "markdown",
   "metadata": {},
   "source": [
    "### Our cockpit\n",
    "Here we load the data and preprocess.\n",
    "Next we run the algorithms and plot"
   ]
  },
  {
   "cell_type": "code",
   "execution_count": 5,
   "metadata": {
    "collapsed": false
   },
   "outputs": [
    {
     "name": "stdout",
     "output_type": "stream",
     "text": [
      "----Munge the data----\n",
      "----Start PCA----\n"
     ]
    },
    {
     "data": {
      "image/png": "[encoded data removed]",
      "text/plain": [
       "<matplotlib.figure.Figure at 0x7f74c0351828>"
      ]
     },
     "metadata": {},
     "output_type": "display_data"
    }
   ],
   "source": [
    "print('----Munge the data----')\n",
    "X, y = munge()\n",
    "X,y = remove_outliers(X,y)\n",
    "N,D = y.shape\n",
    "\n",
    "#PCA\n",
    "print('----Start PCA----')\n",
    "X_red,y_red = PCA(X,y)\n",
    "plt.figure()\n",
    "y_color,y_s = some_cluster(y_red, colors)\n",
    "plt.scatter(X_red[:, 0], X_red[:, 1],c = y_color,s=y_s ,marker='o', linewidths=0)\n",
    "plt.title(title)\n",
    "plt.savefig('pca.png')\n",
    "plt.show(block=True)\n",
    "# If the plot doesnt show after above line, then change the MATPLOTLIB settings for your interpreter\n",
    "\n",
    "plt.figure()\n",
    "f4, ax4 = plt.subplots(1, D)\n",
    "for d in range(D):\n",
    "    ax4[d].scatter(X_red[:, 0], X_red[:, 1],c =y_red[:,d] ,marker='*', linewidths=0)\n",
    "    ax4[d].set_title('Mode%3i'%d)\n",
    "plt.setp([a.get_xticklabels() for a in ax4], visible=False)\n",
    "plt.setp([a.get_yticklabels() for a in ax4], visible=False)\n",
    "plt.savefig('pca_table.png')"
   ]
  },
  {
   "cell_type": "code",
   "execution_count": 6,
   "metadata": {
    "collapsed": false
   },
   "outputs": [
    {
     "name": "stdout",
     "output_type": "stream",
     "text": [
      "----Start tSNE----\n",
      "----------tSNE on perplexity 300----------\n",
      "[t-SNE] Computing pairwise distances...\n",
      "[t-SNE] Computing 901 nearest neighbors...\n",
      "[t-SNE] Computed conditional probabilities for sample 1000 / 10000\n",
      "[t-SNE] Computed conditional probabilities for sample 2000 / 10000\n",
      "[t-SNE] Computed conditional probabilities for sample 3000 / 10000\n",
      "[t-SNE] Computed conditional probabilities for sample 4000 / 10000\n",
      "[t-SNE] Computed conditional probabilities for sample 5000 / 10000\n"
     ]
    },
    {
     "ename": "KeyboardInterrupt",
     "evalue": "",
     "output_type": "error",
     "traceback": [
      "\u001b[0;31m---------------------------------------------------------------------------\u001b[0m",
      "\u001b[0;31mKeyboardInterrupt\u001b[0m                         Traceback (most recent call last)",
      "\u001b[0;32m<ipython-input-6-ad7af058ba13>\u001b[0m in \u001b[0;36m<module>\u001b[0;34m()\u001b[0m\n\u001b[1;32m      3\u001b[0m \u001b[0;32mfor\u001b[0m \u001b[0mper\u001b[0m \u001b[0;32min\u001b[0m \u001b[0;34m[\u001b[0m\u001b[0;36m300\u001b[0m\u001b[0;34m,\u001b[0m\u001b[0;36m400\u001b[0m\u001b[0;34m,\u001b[0m\u001b[0;36m500\u001b[0m\u001b[0;34m]\u001b[0m\u001b[0;34m:\u001b[0m\u001b[0;34m\u001b[0m\u001b[0m\n\u001b[1;32m      4\u001b[0m     \u001b[0mprint\u001b[0m\u001b[0;34m(\u001b[0m\u001b[0;34m'-'\u001b[0m\u001b[0;34m*\u001b[0m\u001b[0;36m10\u001b[0m\u001b[0;34m+\u001b[0m\u001b[0;34m'tSNE on perplexity %i'\u001b[0m\u001b[0;34m%\u001b[0m\u001b[0mper\u001b[0m \u001b[0;34m+\u001b[0m \u001b[0;34m'-'\u001b[0m\u001b[0;34m*\u001b[0m\u001b[0;36m10\u001b[0m\u001b[0;34m)\u001b[0m\u001b[0;34m\u001b[0m\u001b[0m\n\u001b[0;32m----> 5\u001b[0;31m     \u001b[0mX_red\u001b[0m\u001b[0;34m,\u001b[0m \u001b[0my_red\u001b[0m \u001b[0;34m=\u001b[0m \u001b[0mtSNE\u001b[0m\u001b[0;34m(\u001b[0m\u001b[0mX\u001b[0m\u001b[0;34m,\u001b[0m \u001b[0my\u001b[0m\u001b[0;34m,\u001b[0m \u001b[0mper\u001b[0m\u001b[0;34m)\u001b[0m\u001b[0;34m\u001b[0m\u001b[0m\n\u001b[0m\u001b[1;32m      6\u001b[0m     \u001b[0mplt\u001b[0m\u001b[0;34m.\u001b[0m\u001b[0mfigure\u001b[0m\u001b[0;34m(\u001b[0m\u001b[0;34m)\u001b[0m\u001b[0;34m\u001b[0m\u001b[0m\n\u001b[1;32m      7\u001b[0m     \u001b[0my_color\u001b[0m\u001b[0;34m,\u001b[0m \u001b[0my_s\u001b[0m \u001b[0;34m=\u001b[0m \u001b[0msome_cluster\u001b[0m\u001b[0;34m(\u001b[0m\u001b[0my_red\u001b[0m\u001b[0;34m,\u001b[0m \u001b[0mcolors\u001b[0m\u001b[0;34m)\u001b[0m\u001b[0;34m\u001b[0m\u001b[0m\n",
      "\u001b[0;32m<ipython-input-4-59f7050a8ad1>\u001b[0m in \u001b[0;36mtSNE\u001b[0;34m(X, y, perp)\u001b[0m\n\u001b[1;32m     14\u001b[0m \u001b[0;34m\u001b[0m\u001b[0m\n\u001b[1;32m     15\u001b[0m     \u001b[0mtSNE_model\u001b[0m \u001b[0;34m=\u001b[0m \u001b[0mTSNE\u001b[0m\u001b[0;34m(\u001b[0m\u001b[0mverbose\u001b[0m\u001b[0;34m=\u001b[0m\u001b[0;36m2\u001b[0m\u001b[0;34m,\u001b[0m\u001b[0mperplexity\u001b[0m\u001b[0;34m=\u001b[0m\u001b[0mperp\u001b[0m\u001b[0;34m,\u001b[0m\u001b[0mmin_grad_norm\u001b[0m\u001b[0;34m=\u001b[0m\u001b[0;36m1E-07\u001b[0m\u001b[0;34m,\u001b[0m\u001b[0mn_iter\u001b[0m\u001b[0;34m=\u001b[0m\u001b[0;36m300\u001b[0m\u001b[0;34m,\u001b[0m\u001b[0mangle\u001b[0m\u001b[0;34m=\u001b[0m\u001b[0;36m0.6\u001b[0m\u001b[0;34m)\u001b[0m\u001b[0;34m\u001b[0m\u001b[0m\n\u001b[0;32m---> 16\u001b[0;31m     \u001b[0mreduced_tsne\u001b[0m \u001b[0;34m=\u001b[0m \u001b[0mtSNE_model\u001b[0m\u001b[0;34m.\u001b[0m\u001b[0mfit_transform\u001b[0m\u001b[0;34m(\u001b[0m\u001b[0mX\u001b[0m\u001b[0;34m)\u001b[0m\u001b[0;34m\u001b[0m\u001b[0m\n\u001b[0m\u001b[1;32m     17\u001b[0m     \u001b[0;32mreturn\u001b[0m \u001b[0mreduced_tsne\u001b[0m\u001b[0;34m,\u001b[0m\u001b[0my\u001b[0m\u001b[0;34m\u001b[0m\u001b[0m\n",
      "\u001b[0;32m/usr/local/lib/python3.5/dist-packages/sklearn/manifold/t_sne.py\u001b[0m in \u001b[0;36mfit_transform\u001b[0;34m(self, X, y)\u001b[0m\n\u001b[1;32m    882\u001b[0m             \u001b[0mEmbedding\u001b[0m \u001b[0mof\u001b[0m \u001b[0mthe\u001b[0m \u001b[0mtraining\u001b[0m \u001b[0mdata\u001b[0m \u001b[0;32min\u001b[0m \u001b[0mlow\u001b[0m\u001b[0;34m-\u001b[0m\u001b[0mdimensional\u001b[0m \u001b[0mspace\u001b[0m\u001b[0;34m.\u001b[0m\u001b[0;34m\u001b[0m\u001b[0m\n\u001b[1;32m    883\u001b[0m         \"\"\"\n\u001b[0;32m--> 884\u001b[0;31m         \u001b[0membedding\u001b[0m \u001b[0;34m=\u001b[0m \u001b[0mself\u001b[0m\u001b[0;34m.\u001b[0m\u001b[0m_fit\u001b[0m\u001b[0;34m(\u001b[0m\u001b[0mX\u001b[0m\u001b[0;34m)\u001b[0m\u001b[0;34m\u001b[0m\u001b[0m\n\u001b[0m\u001b[1;32m    885\u001b[0m         \u001b[0mself\u001b[0m\u001b[0;34m.\u001b[0m\u001b[0membedding_\u001b[0m \u001b[0;34m=\u001b[0m \u001b[0membedding\u001b[0m\u001b[0;34m\u001b[0m\u001b[0m\n\u001b[1;32m    886\u001b[0m         \u001b[0;32mreturn\u001b[0m \u001b[0mself\u001b[0m\u001b[0;34m.\u001b[0m\u001b[0membedding_\u001b[0m\u001b[0;34m\u001b[0m\u001b[0m\n",
      "\u001b[0;32m/usr/local/lib/python3.5/dist-packages/sklearn/manifold/t_sne.py\u001b[0m in \u001b[0;36m_fit\u001b[0;34m(self, X, skip_num_points)\u001b[0m\n\u001b[1;32m    764\u001b[0m                 \u001b[0mneighbors_nn\u001b[0m \u001b[0;34m=\u001b[0m \u001b[0mneighbors_nn\u001b[0m\u001b[0;34m[\u001b[0m\u001b[0;34m:\u001b[0m\u001b[0;34m,\u001b[0m \u001b[0;36m1\u001b[0m\u001b[0;34m:\u001b[0m\u001b[0;34m]\u001b[0m\u001b[0;34m\u001b[0m\u001b[0m\n\u001b[1;32m    765\u001b[0m             P = _joint_probabilities_nn(distances, neighbors_nn,\n\u001b[0;32m--> 766\u001b[0;31m                                         self.perplexity, self.verbose)\n\u001b[0m\u001b[1;32m    767\u001b[0m         \u001b[0;32melse\u001b[0m\u001b[0;34m:\u001b[0m\u001b[0;34m\u001b[0m\u001b[0m\n\u001b[1;32m    768\u001b[0m             \u001b[0mP\u001b[0m \u001b[0;34m=\u001b[0m \u001b[0m_joint_probabilities\u001b[0m\u001b[0;34m(\u001b[0m\u001b[0mdistances\u001b[0m\u001b[0;34m,\u001b[0m \u001b[0mself\u001b[0m\u001b[0;34m.\u001b[0m\u001b[0mperplexity\u001b[0m\u001b[0;34m,\u001b[0m \u001b[0mself\u001b[0m\u001b[0;34m.\u001b[0m\u001b[0mverbose\u001b[0m\u001b[0;34m)\u001b[0m\u001b[0;34m\u001b[0m\u001b[0m\n",
      "\u001b[0;32m/usr/local/lib/python3.5/dist-packages/sklearn/manifold/t_sne.py\u001b[0m in \u001b[0;36m_joint_probabilities_nn\u001b[0;34m(distances, neighbors, desired_perplexity, verbose)\u001b[0m\n\u001b[1;32m     93\u001b[0m     \u001b[0mneighbors\u001b[0m \u001b[0;34m=\u001b[0m \u001b[0mastype\u001b[0m\u001b[0;34m(\u001b[0m\u001b[0mneighbors\u001b[0m\u001b[0;34m,\u001b[0m \u001b[0mnp\u001b[0m\u001b[0;34m.\u001b[0m\u001b[0mint64\u001b[0m\u001b[0;34m,\u001b[0m \u001b[0mcopy\u001b[0m\u001b[0;34m=\u001b[0m\u001b[0;32mFalse\u001b[0m\u001b[0;34m)\u001b[0m\u001b[0;34m\u001b[0m\u001b[0m\n\u001b[1;32m     94\u001b[0m     conditional_P = _utils._binary_search_perplexity(\n\u001b[0;32m---> 95\u001b[0;31m         distances, neighbors, desired_perplexity, verbose)\n\u001b[0m\u001b[1;32m     96\u001b[0m     \u001b[0mm\u001b[0m \u001b[0;34m=\u001b[0m \u001b[0;34m\"All probabilities should be finite\"\u001b[0m\u001b[0;34m\u001b[0m\u001b[0m\n\u001b[1;32m     97\u001b[0m     \u001b[0;32massert\u001b[0m \u001b[0mnp\u001b[0m\u001b[0;34m.\u001b[0m\u001b[0mall\u001b[0m\u001b[0;34m(\u001b[0m\u001b[0mnp\u001b[0m\u001b[0;34m.\u001b[0m\u001b[0misfinite\u001b[0m\u001b[0;34m(\u001b[0m\u001b[0mconditional_P\u001b[0m\u001b[0;34m)\u001b[0m\u001b[0;34m)\u001b[0m\u001b[0;34m,\u001b[0m \u001b[0mm\u001b[0m\u001b[0;34m\u001b[0m\u001b[0m\n",
      "\u001b[0;32msklearn/manifold/_utils.pyx\u001b[0m in \u001b[0;36msklearn.manifold._utils._binary_search_perplexity (sklearn/manifold/_utils.c:2677)\u001b[0;34m()\u001b[0m\n",
      "\u001b[0;32msklearn/manifold/_utils.pyx\u001b[0m in \u001b[0;36msklearn.manifold._utils._binary_search_perplexity (sklearn/manifold/_utils.c:2415)\u001b[0;34m()\u001b[0m\n",
      "\u001b[0;31mKeyboardInterrupt\u001b[0m: "
     ]
    }
   ],
   "source": [
    "#tSNE\n",
    "print('----Start tSNE----')\n",
    "for per in [300,400,500]:\n",
    "    print('-'*10+'tSNE on perplexity %i'%per + '-'*10)\n",
    "    X_red, y_red = tSNE(X, y, per)\n",
    "    plt.figure()\n",
    "    y_color, y_s = some_cluster(y_red, colors)\n",
    "    #color\n",
    "    plt.scatter(X_red[:, 0], X_red[:, 1], c=y_color, s=y_s, marker='o',\n",
    "                linewidths=0)\n",
    "    plt.title(title)\n",
    "    plt.savefig('tSNE%i.png' % per)\n",
    "    #black-white\n",
    "    plt.scatter(X_red[:, 0], X_red[:, 1], c='k', s=y_s, marker='o',\n",
    "                linewidths=0)\n",
    "    plt.title(title)\n",
    "    plt.savefig('tSNE_bw%i.png'%per)\n",
    "    #\n",
    "    plt.figure()\n",
    "    f3, ax3 = plt.subplots(1, D)\n",
    "    for d in range(D):\n",
    "        ax3[d].scatter(X_red[:, 0], X_red[:, 1],c =y_red[:,d] ,marker='*', linewidths=0)\n",
    "        ax3[d].set_title('Mode%3i'%d)\n",
    "    plt.setp([a.get_xticklabels() for a in ax3], visible=False)\n",
    "    plt.setp([a.get_yticklabels() for a in ax3], visible=False)\n",
    "    plt.savefig('tsne_table.png')"
   ]
  },
  {
   "cell_type": "code",
   "execution_count": null,
   "metadata": {
    "collapsed": true
   },
   "outputs": [],
   "source": []
  }
 ],
 "metadata": {
  "kernelspec": {
   "display_name": "Python 3",
   "language": "python",
   "name": "python3"
  },
  "language_info": {
   "codemirror_mode": {
    "name": "ipython",
    "version": 3
   },
   "file_extension": ".py",
   "mimetype": "text/x-python",
   "name": "python",
   "nbconvert_exporter": "python",
   "pygments_lexer": "ipython3",
   "version": "3.5.2"
  }
 },
 "nbformat": 4,
 "nbformat_minor": 2
}
